{
 "cells": [
  {
   "cell_type": "markdown",
   "metadata": {},
   "source": [
    "OANDA PROJECT  \n",
    "Is the relationship between a currency and The US dollar a good indicator for it's relationship with other currencies?"
   ]
  },
  {
   "cell_type": "code",
   "execution_count": null,
   "metadata": {},
   "outputs": [],
   "source": [
    "import pickle\n",
    "import math\n",
    "import requests\n",
    "import json\n",
    "from Oanda_Key import TOKEN\n",
    "\n",
    "\n",
    "Headers = {\n",
    "    'Authorization': TOKEN\n",
    "}\n",
    "\n",
    "#Request to OANDA for 3 pairings. 200 candles each at 4 hour intervals.\n",
    "EUR_USD_response = requests.get(\"https://api-fxpractice.oanda.com/v3/instruments/EUR_USD/candles?count=1000&price=M&granularity=H4\", headers = Headers)\n",
    "\n",
    "EUR_GBP_response =requests.get(\"https://api-fxpractice.oanda.com/v3/instruments/EUR_GBP/candles?count=1000&price=M&granularity=H4\", headers = Headers)\n",
    "\n",
    "EUR_AUD_response = requests.get(\"https://api-fxpractice.oanda.com/v3/instruments/EUR_AUD/candles?count=1000&price=M&granularity=H4\", headers = Headers)\n",
    "\n",
    "#Load json response into dictionaries\n",
    "EUR_USD_dict = json.loads(EUR_USD_response.text)\n",
    "EUR_GBP_dict = json.loads(EUR_GBP_response.text)\n",
    "EUR_AUD_dict = json.loads(EUR_AUD_response.text)\n",
    "\n",
    "#Pickle these new dictionaries\n",
    "with open('EUR_USD.pkl', 'wb') as f:\n",
    "    pickle.dump(EUR_USD_dict, f)\n",
    "with open('EUR_GBP.pkl', 'wb') as f:\n",
    "    pickle.dump(EUR_GBP_dict, f)\n",
    "with open('EUR_AUD.pkl','wb') as f:\n",
    "    pickle.dump(EUR_AUD_dict, f)\n",
    "\n"
   ]
  },
  {
   "cell_type": "markdown",
   "metadata": {},
   "source": [
    "Now that the data is pickle only read from those files\n"
   ]
  },
  {
   "cell_type": "code",
   "execution_count": 1,
   "metadata": {},
   "outputs": [
    {
     "name": "stdout",
     "output_type": "stream",
     "text": [
      "{'o': '1.14054', 'h': '1.14254', 'l': '1.14020', 'c': '1.14060'}\n",
      "1.14060\n",
      "{'o': '0.87349', 'h': '0.87544', 'l': '0.87200', 'c': '0.87407'}\n",
      "0.87407\n",
      "{'o': '1.57974', 'h': '1.58122', 'l': '1.57704', 'c': '1.57762'}\n",
      "1.57762\n",
      "2018-11-06T10:00:00.000000000Z 2018-11-06T10:00:00.000000000Z 2018-11-06T10:00:00.000000000Z\n"
     ]
    }
   ],
   "source": [
    "import pickle\n",
    "#import date\n",
    "\n",
    "\n",
    "#Open The Data Files\n",
    "with open('EUR_USD.pkl', 'rb') as f:\n",
    "    USD = pickle.load(f)\n",
    "with open('EUR_GBP.pkl', 'rb') as f:\n",
    "    GBP = pickle.load(f)\n",
    "with open('EUR_AUD.pkl','rb') as f:\n",
    "    AUD = pickle.load(f)\n",
    "\n",
    "#Generates a list of the dates for each pickle file\n",
    "#While only one date list is needed, all 3 are checked\n",
    "#to ensure they are all the same time frame. \n",
    "def time_List(curr_Pair_Dict):\n",
    "    i = 0\n",
    "    Curr_Time = []\n",
    "    for x in curr_Pair_Dict['candles']:\n",
    "        Curr_Time.append(x['time'])\n",
    "        \n",
    "    return Curr_Time\n",
    "\n",
    "#Returns a list of the closing prices for each 'candlestick'\n",
    "#Only the closing price, because it should be nearly exactly the open\n",
    "#for the next candlestick.\n",
    "def Close_List(curr_Pair_Dict):\n",
    "    Curr_Candle_L = []\n",
    "    Curr_Close_L = []\n",
    "    Curr_Time = []\n",
    "    \n",
    "    for x in curr_Pair_Dict['candles']:\n",
    "        Curr_Candle_L.append(x['mid'])\n",
    "        Curr_Time.append(x['time'])\n",
    "    print(Curr_Candle_L[0])\n",
    "    \n",
    "    for y in Curr_Candle_L:\n",
    "        Curr_Close_L.append(y['c'])\n",
    "    print(Curr_Close_L[0])\n",
    "    \n",
    "    return Curr_Close_L\n",
    "\n",
    "USD_Close = Close_List(USD)\n",
    "GBP_Close = Close_List(GBP)\n",
    "AUD_Close = Close_List(AUD)\n",
    "TimeSig = time_List(USD)\n",
    "TimeSig2 = time_List(GBP)\n",
    "TimeSig3 = time_List(AUD)\n",
    "\n",
    "\n",
    "#print(TimeSig[1], TimeSig2[0], TimeSig3[1])\n",
    "#The audi is from a different time zone"
   ]
  },
  {
   "cell_type": "markdown",
   "metadata": {},
   "source": [
    "Next convert the closing prices to change in pips from the starting point.  \n",
    "Then change the strings in TimeSig to actual date variables that matplotlib can use"
   ]
  },
  {
   "cell_type": "code",
   "execution_count": 2,
   "metadata": {},
   "outputs": [
    {
     "data": {
      "text/plain": [
       "datetime.datetime(2018, 11, 6, 20, 0)"
      ]
     },
     "execution_count": 2,
     "metadata": {},
     "output_type": "execute_result"
    }
   ],
   "source": [
    "#Convert Values to CHANGE IN PIPS\n",
    "from datetime import datetime\n",
    "from dateutil.parser import parse\n",
    "import pandas as pd\n",
    "\n",
    "#Finds difference between every point and the start,\n",
    "#multiples by 1000, to get into the right unit. (Pip)\n",
    "def val_To_Pip(c_list):\n",
    "    Pip_Diff = []\n",
    "    for i in range(len(c_list)-1):\n",
    "        Pip_Diff.append((float(c_list[i+1])-float(c_list[0]))*1000)\n",
    "    return Pip_Diff\n",
    " \n",
    "#Converts the strings into dates using datetime\n",
    "def string_ToDate(dates):\n",
    "    dates_L = []\n",
    "    for x in dates:\n",
    "        x = x.strip().split('T')\n",
    "        #x.remove(x[1])\n",
    "        y = str(x[0])\n",
    "        x[0] = (str(x[0])+\"-\"+(y[:2]))\n",
    "        #print(x)\n",
    "        dates_L.append(datetime.strptime(x[0], '%Y-%m-%d-%H'))\n",
    "    return dates_L\n",
    "USD_Pip = val_To_Pip(USD_Close)\n",
    "GBP_Pip = val_To_Pip(GBP_Close)\n",
    "AUD_Pip = val_To_Pip(AUD_Close)\n",
    "\n",
    "\n",
    "dates_L = string_ToDate(TimeSig)\n",
    "\n",
    "\n",
    "#Because of the conversion from closing prices to change in pips\n",
    "#dates_L has one more value than the pip lists, so we pop the first value.\n",
    "dates_L.pop(0)\n",
    "#Now dates can be used to make a line graph"
   ]
  },
  {
   "cell_type": "code",
   "execution_count": 4,
   "metadata": {},
   "outputs": [
    {
     "name": "stdout",
     "output_type": "stream",
     "text": [
      "999 999\n"
     ]
    },
    {
     "data": {
      "image/png": "[encoded data removed]",
      "text/plain": [
       "<Figure size 432x288 with 1 Axes>"
      ]
     },
     "metadata": {
      "needs_background": "light"
     },
     "output_type": "display_data"
    }
   ],
   "source": [
    "##### Plot Changes Some\n",
    "\n",
    "import matplotlib.pyplot as plt\n",
    "\n",
    "print(len(USD_Pip), len(dates_L))\n",
    "\n",
    "plt.plot(dates_L, USD_Pip, color='g')\n",
    "plt.plot(dates_L, GBP_Pip, color='blue')\n",
    "plt.plot(dates_L, AUD_Pip, color='orange')\n",
    "plt.xticks([])\n",
    "plt.style.use('seaborn-poster')\n",
    "plt.xlabel('Time')\n",
    "plt.ylabel('Pips')\n",
    "plt.title('Euro Value as Related To Other Currencies ')\n",
    "plt.savefig(\"eruro.png\", transparent = True)\n",
    "#plt.figure(figsize=(40,10))\n",
    "\n",
    "plt.show()"
   ]
  }
 ],
 "metadata": {
  "kernelspec": {
   "display_name": "Python 3",
   "language": "python",
   "name": "python3"
  },
  "language_info": {
   "codemirror_mode": {
    "name": "ipython",
    "version": 3
   },
   "file_extension": ".py",
   "mimetype": "text/x-python",
   "name": "python",
   "nbconvert_exporter": "python",
   "pygments_lexer": "ipython3",
   "version": "3.7.3"
  }
 },
 "nbformat": 4,
 "nbformat_minor": 2
}
